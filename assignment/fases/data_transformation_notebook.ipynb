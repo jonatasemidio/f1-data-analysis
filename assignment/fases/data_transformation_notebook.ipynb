{
 "cells": [
  {
   "cell_type": "markdown",
   "id": "e1aeb033",
   "metadata": {},
   "source": [
    "# 🔄 Data Transformation with Pandas\n",
    "This notebook covers a range of data transformation techniques including missing value handling, outlier detection, type conversion, datetime normalization, and feature scaling."
   ]
  },
  {
   "cell_type": "code",
   "execution_count": null,
   "id": "b58121e8",
   "metadata": {},
   "outputs": [],
   "source": [
    "import pandas as pd\n",
    "import numpy as np"
   ]
  },
  {
   "cell_type": "code",
   "execution_count": null,
   "id": "fd186bb5",
   "metadata": {},
   "outputs": [],
   "source": [
    "# Create sample dataset\n",
    "data = {\n",
    "    'age': [25, 30, np.nan, 40, 1000, 35],\n",
    "    'income': [50000, 60000, 70000, np.nan, 90000, -100000],\n",
    "    'gender': ['Male', 'Female', 'Female', 'Male', 'Other', None],\n",
    "    'signup_date': ['2022-01-01', '2022-02-15', 'bad_date', '2022-04-10', '2022-05-05', '2022-06-01'],\n",
    "    'country': ['UK', 'US', 'UK', 'US', 'FR', 'DE']\n",
    "}\n",
    "df = pd.DataFrame(data)\n",
    "df"
   ]
  },
  {
   "cell_type": "markdown",
   "id": "4d8d617d",
   "metadata": {},
   "source": [
    "## 🕳 Handling Missing Values"
   ]
  },
  {
   "cell_type": "code",
   "execution_count": null,
   "id": "1df157f4",
   "metadata": {},
   "outputs": [],
   "source": [
    "# Drop rows with any NaN values\n",
    "df_drop = df.dropna()\n",
    "# Fill with mean or mode\n",
    "df['age_fill_mean'] = df['age'].fillna(df['age'].mean())\n",
    "df['gender_fill_mode'] = df['gender'].fillna(df['gender'].mode()[0])\n",
    "df"
   ]
  },
  {
   "cell_type": "markdown",
   "id": "367b6587",
   "metadata": {},
   "source": [
    "## 🚨 Outlier Detection and Treatment"
   ]
  },
  {
   "cell_type": "code",
   "execution_count": null,
   "id": "a9eb8391",
   "metadata": {},
   "outputs": [],
   "source": [
    "# Z-Score Method\n",
    "from scipy import stats\n",
    "z_scores = np.abs(stats.zscore(df[['age', 'income']].dropna()))\n",
    "outliers_z = (z_scores > 3)\n",
    "# IQR Method\n",
    "Q1 = df['income'].quantile(0.25)\n",
    "Q3 = df['income'].quantile(0.75)\n",
    "IQR = Q3 - Q1\n",
    "outliers_iqr = (df['income'] < Q1 - 1.5 * IQR) | (df['income'] > Q3 + 1.5 * IQR)\n",
    "df['income_capped'] = df['income'].clip(lower=Q1 - 1.5 * IQR, upper=Q3 + 1.5 * IQR)\n",
    "df"
   ]
  },
  {
   "cell_type": "markdown",
   "id": "cfb7560f",
   "metadata": {},
   "source": [
    "## 🔄 Data Type Conversion"
   ]
  },
  {
   "cell_type": "code",
   "execution_count": null,
   "id": "7bf6bb13",
   "metadata": {},
   "outputs": [],
   "source": [
    "# Convert signup_date to datetime\n",
    "df['signup_date'] = pd.to_datetime(df['signup_date'], errors='coerce')\n",
    "# Convert gender to category\n",
    "df['gender_cat'] = df['gender'].astype('category')\n",
    "df.dtypes"
   ]
  },
  {
   "cell_type": "markdown",
   "id": "f45815c1",
   "metadata": {},
   "source": [
    "## 🕓 Datetime Normalization"
   ]
  },
  {
   "cell_type": "code",
   "execution_count": null,
   "id": "3511c89c",
   "metadata": {},
   "outputs": [],
   "source": [
    "# Extract date components\n",
    "df['signup_month'] = df['signup_date'].dt.month\n",
    "df['signup_weekday'] = df['signup_date'].dt.day_name()\n",
    "df[['signup_date', 'signup_month', 'signup_weekday']]"
   ]
  },
  {
   "cell_type": "markdown",
   "id": "39d26aa4",
   "metadata": {},
   "source": [
    "## 📏 Feature Scaling"
   ]
  },
  {
   "cell_type": "code",
   "execution_count": null,
   "id": "ceee7797",
   "metadata": {},
   "outputs": [],
   "source": [
    "# Standardization (Z-score)\n",
    "df['income_z'] = (df['income_capped'] - df['income_capped'].mean()) / df['income_capped'].std()\n",
    "# Min-Max Normalization\n",
    "df['income_minmax'] = (df['income_capped'] - df['income_capped'].min()) / (df['income_capped'].max() - df['income_capped'].min())\n",
    "# Robust Scaling\n",
    "df['income_robust'] = (df['income_capped'] - df['income_capped'].median()) / (df['income_capped'].quantile(0.75) - df['income_capped'].quantile(0.25))\n",
    "df[['income', 'income_capped', 'income_z', 'income_minmax', 'income_robust']]"
   ]
  }
 ],
 "metadata": {},
 "nbformat": 4,
 "nbformat_minor": 5
}
