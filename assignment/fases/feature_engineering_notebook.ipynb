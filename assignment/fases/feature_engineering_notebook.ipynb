{
 "cells": [
  {
   "cell_type": "markdown",
   "id": "effcd669",
   "metadata": {},
   "source": [
    "# 🧠 Feature Engineering with Pandas and Scikit-learn\n",
    "This notebook provides comprehensive examples of feature engineering techniques for machine learning workflows."
   ]
  },
  {
   "cell_type": "code",
   "execution_count": null,
   "id": "3151cf3b",
   "metadata": {},
   "outputs": [],
   "source": [
    "import pandas as pd\n",
    "import numpy as np\n",
    "import matplotlib.pyplot as plt\n",
    "import seaborn as sns"
   ]
  },
  {
   "cell_type": "code",
   "execution_count": null,
   "id": "86abe3b2",
   "metadata": {},
   "outputs": [],
   "source": [
    "# Create a synthetic dataset\n",
    "data = {\n",
    "    'age': [25, 30, 35, 40, np.nan, 50],\n",
    "    'income': [50000, 60000, 70000, 80000, 90000, None],\n",
    "    'gender': ['Male', 'Female', 'Female', 'Male', 'Other', None],\n",
    "    'signup_date': ['2022-01-01', '2022-02-15', '2022-03-20', '2022-04-10', '2022-05-05', '2022-06-01'],\n",
    "    'country': ['UK', 'US', 'UK', 'US', 'FR', 'DE']\n",
    "}\n",
    "df = pd.DataFrame(data)\n",
    "df"
   ]
  },
  {
   "cell_type": "markdown",
   "id": "dacc15ca",
   "metadata": {},
   "source": [
    "## 🔍 Missing Value Handling"
   ]
  },
  {
   "cell_type": "code",
   "execution_count": null,
   "id": "0ca38e0e",
   "metadata": {},
   "outputs": [],
   "source": [
    "df['age'].fillna(df['age'].mean(), inplace=True)\n",
    "df['income'].fillna(df['income'].median(), inplace=True)\n",
    "df['gender'].fillna(df['gender'].mode()[0], inplace=True)\n",
    "df"
   ]
  },
  {
   "cell_type": "markdown",
   "id": "7a6b910e",
   "metadata": {},
   "source": [
    "## 🧮 Categorical Encoding"
   ]
  },
  {
   "cell_type": "code",
   "execution_count": null,
   "id": "5d6acf4c",
   "metadata": {},
   "outputs": [],
   "source": [
    "df['gender_encoded'] = df['gender'].astype('category').cat.codes\n",
    "df = pd.get_dummies(df, columns=['country'], prefix='country')\n",
    "df"
   ]
  },
  {
   "cell_type": "markdown",
   "id": "a246b3fc",
   "metadata": {},
   "source": [
    "## 🗓 Date Feature Extraction"
   ]
  },
  {
   "cell_type": "code",
   "execution_count": null,
   "id": "07e6e912",
   "metadata": {},
   "outputs": [],
   "source": [
    "df['signup_date'] = pd.to_datetime(df['signup_date'])\n",
    "df['signup_month'] = df['signup_date'].dt.month\n",
    "df['signup_dayofweek'] = df['signup_date'].dt.dayofweek\n",
    "df"
   ]
  },
  {
   "cell_type": "markdown",
   "id": "b241f563",
   "metadata": {},
   "source": [
    "## 📊 Binning"
   ]
  },
  {
   "cell_type": "code",
   "execution_count": null,
   "id": "0b76955f",
   "metadata": {},
   "outputs": [],
   "source": [
    "df['age_bin'] = pd.cut(df['age'], bins=[0, 30, 40, 60], labels=['Young', 'Mid-age', 'Senior'])\n",
    "df"
   ]
  },
  {
   "cell_type": "markdown",
   "id": "b0c97a8b",
   "metadata": {},
   "source": [
    "## ➕ Interaction Features"
   ]
  },
  {
   "cell_type": "code",
   "execution_count": null,
   "id": "5639c508",
   "metadata": {},
   "outputs": [],
   "source": [
    "df['income_per_age'] = df['income'] / df['age']\n",
    "df"
   ]
  },
  {
   "cell_type": "markdown",
   "id": "9ceabcac",
   "metadata": {},
   "source": [
    "## 🧮 Polynomial Features"
   ]
  },
  {
   "cell_type": "code",
   "execution_count": null,
   "id": "30a494ea",
   "metadata": {},
   "outputs": [],
   "source": [
    "from sklearn.preprocessing import PolynomialFeatures\n",
    "poly = PolynomialFeatures(degree=2, include_bias=False)\n",
    "poly_features = poly.fit_transform(df[['age', 'income']])\n",
    "poly_df = pd.DataFrame(poly_features, columns=poly.get_feature_names_out(['age', 'income']))\n",
    "poly_df.head()"
   ]
  },
  {
   "cell_type": "markdown",
   "id": "77f34e74",
   "metadata": {},
   "source": [
    "## 📈 Group-wise Aggregations"
   ]
  },
  {
   "cell_type": "code",
   "execution_count": null,
   "id": "cb599c09",
   "metadata": {},
   "outputs": [],
   "source": [
    "df['gender_group_mean_income'] = df.groupby('gender')['income'].transform('mean')\n",
    "df"
   ]
  },
  {
   "cell_type": "markdown",
   "id": "1a9eae47",
   "metadata": {},
   "source": [
    "## 🔻 Dimensionality Reduction"
   ]
  },
  {
   "cell_type": "code",
   "execution_count": null,
   "id": "2d392fc8",
   "metadata": {},
   "outputs": [],
   "source": [
    "from sklearn.decomposition import PCA\n",
    "pca = PCA(n_components=2)\n",
    "reduced = pca.fit_transform(poly_features)\n",
    "reduced_df = pd.DataFrame(reduced, columns=['PC1', 'PC2'])\n",
    "reduced_df.head()"
   ]
  }
 ],
 "metadata": {},
 "nbformat": 4,
 "nbformat_minor": 5
}
