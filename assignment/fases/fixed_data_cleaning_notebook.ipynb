{
 "cells": [
  {
   "cell_type": "markdown",
   "id": "8f439034",
   "metadata": {},
   "source": [
    "# 🧹 Data Cleaning with Pandas\n",
    "This notebook demonstrates a complete data validation and cleansing pipeline using sample data in Pandas."
   ]
  },
  {
   "cell_type": "code",
   "execution_count": null,
   "id": "72d7c4d7",
   "metadata": {},
   "outputs": [],
   "source": [
    "import pandas as pd\n",
    "import numpy as np"
   ]
  },
  {
   "cell_type": "code",
   "execution_count": null,
   "id": "1d298392",
   "metadata": {},
   "outputs": [],
   "source": [
    "# Create sample dataset\n",
    "data = {\n",
    "    'id': [1, 2, 3, 4, 5, 5],\n",
    "    'name': [' Alice ', 'Bob', 'Charlie', 'David', 'Eve', 'Eve'],\n",
    "    'dob': ['1990-01-01', '1985-05-12', 'bad_date', '2000-07-19', None, '2001-03-04'],\n",
    "    'salary': ['50000', '60000', '70000', 'N/A', '80000', '90000'],\n",
    "    'department': ['HR', None, 'Engineering', 'Sales', 'HR', 'HR'],\n",
    "    'country': ['UK', 'U.K.', 'united kingdom', 'USA', 'UK ', ' UK'],\n",
    "    'phone': ['+44-123-456-789', '1234567890', '(020)1234567', 'N/A', '44123456789', '44123456789'],\n",
    "    'weight_lbs': [150, 180, 200, None, 130, np.inf],\n",
    "    'age': [25, -1, 35, 40, np.nan, 30]\n",
    "}\n",
    "df = pd.DataFrame(data)\n",
    "df"
   ]
  },
  {
   "cell_type": "markdown",
   "id": "f1da4d53",
   "metadata": {},
   "source": [
    "## 🔧 Data Cleansing Steps"
   ]
  },
  {
   "cell_type": "code",
   "execution_count": null,
   "id": "bc32dce5",
   "metadata": {},
   "outputs": [],
   "source": [
    "# Strip whitespace\n",
    "df['name'] = df['name'].str.strip()\n",
    "\n",
    "# Standardize text (lowercase and remove dots)\n",
    "df['country'] = df['country'].str.lower().str.replace('.', '', regex=False).str.strip()\n",
    "\n",
    "# Remove special characters from phone\n",
    "df['phone'] = df['phone'].str.replace(r'[^0-9]', '', regex=True)\n",
    "\n",
    "# Convert date of birth to datetime\n",
    "df['dob'] = pd.to_datetime(df['dob'], errors='coerce')\n",
    "\n",
    "# Convert salary to numeric\n",
    "df['salary'] = pd.to_numeric(df['salary'], errors='coerce')\n",
    "\n",
    "# Replace invalid ages\n",
    "df['age'] = df['age'].apply(lambda x: np.nan if pd.notnull(x) and x < 0 else x)\n",
    "\n",
    "# Unit conversion: lbs to kg\n",
    "df['weight_kg'] = df['weight_lbs'] * 0.453592\n",
    "\n",
    "# Drop rows with any NaNs\n",
    "df_drop_nulls = df.dropna()\n",
    "\n",
    "# Drop rows with inf values\n",
    "df_cleaned = df[~df.isin([np.inf, -np.inf]).any(axis=1)].dropna()\n",
    "\n",
    "df_cleaned"
   ]
  }
 ],
 "metadata": {},
 "nbformat": 4,
 "nbformat_minor": 5
}
