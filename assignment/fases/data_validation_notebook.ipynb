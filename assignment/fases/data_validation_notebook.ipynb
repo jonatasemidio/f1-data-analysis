{
 "cells": [
  {
   "cell_type": "markdown",
   "id": "a6b82290",
   "metadata": {},
   "source": [
    "# ✅ Data Validation with Pandas\n",
    "This notebook demonstrates how to perform schema checks, data type validations, null checks, and duplicate detection."
   ]
  },
  {
   "cell_type": "code",
   "execution_count": null,
   "id": "b122e5d4",
   "metadata": {},
   "outputs": [],
   "source": [
    "import pandas as pd\n",
    "import numpy as np"
   ]
  },
  {
   "cell_type": "code",
   "execution_count": null,
   "id": "2606f67d",
   "metadata": {},
   "outputs": [],
   "source": [
    "# Sample dataset for validation\n",
    "data = {\n",
    "    'id': [1, 2, 3, 4, 5, 5],\n",
    "    'name': ['Alice', 'Bob', 'Charlie', 'David', 'Eve', 'Eve'],\n",
    "    'dob': ['1990-01-01', '1985-05-12', '1992-03-25', '2000-07-19', None, '2001-03-04'],\n",
    "    'salary': ['50000', '60000', '70000', 'not_available', '80000', '90000'],\n",
    "    'age': [25, 30, 35, 40, np.nan, 30]\n",
    "}\n",
    "df = pd.DataFrame(data)\n",
    "df"
   ]
  },
  {
   "cell_type": "markdown",
   "id": "1719cacb",
   "metadata": {},
   "source": [
    "## 🔍 Schema Validation"
   ]
  },
  {
   "cell_type": "code",
   "execution_count": null,
   "id": "e63029cb",
   "metadata": {},
   "outputs": [],
   "source": [
    "# Expected schema\n",
    "expected_columns = ['id', 'name', 'dob', 'salary', 'age']\n",
    "assert set(expected_columns).issubset(df.columns), 'Schema mismatch!'\n",
    "print('Schema validation passed.')"
   ]
  },
  {
   "cell_type": "markdown",
   "id": "d52b80a9",
   "metadata": {},
   "source": [
    "## 🔍 Data Type Validation"
   ]
  },
  {
   "cell_type": "code",
   "execution_count": null,
   "id": "789d131e",
   "metadata": {},
   "outputs": [],
   "source": [
    "# Convert 'dob' and 'salary' to appropriate types\n",
    "df['dob'] = pd.to_datetime(df['dob'], errors='coerce')\n",
    "df['salary'] = pd.to_numeric(df['salary'], errors='coerce')\n",
    "\n",
    "# Validate types\n",
    "assert pd.api.types.is_numeric_dtype(df['salary']), 'Salary column is not numeric'\n",
    "assert pd.api.types.is_datetime64_any_dtype(df['dob']), 'DOB column is not datetime'\n",
    "print('Data type validation passed.')"
   ]
  },
  {
   "cell_type": "markdown",
   "id": "93c0a85f",
   "metadata": {},
   "source": [
    "## 🔍 Null Value Detection"
   ]
  },
  {
   "cell_type": "code",
   "execution_count": null,
   "id": "00064224",
   "metadata": {},
   "outputs": [],
   "source": [
    "# Check for missing values\n",
    "missing_values = df.isnull().sum()\n",
    "print('Missing values per column:')\n",
    "print(missing_values)"
   ]
  },
  {
   "cell_type": "markdown",
   "id": "36b92615",
   "metadata": {},
   "source": [
    "## 🔍 Duplicate Detection"
   ]
  },
  {
   "cell_type": "code",
   "execution_count": null,
   "id": "a69dc6e8",
   "metadata": {},
   "outputs": [],
   "source": [
    "# Check for duplicate rows\n",
    "duplicate_rows = df[df.duplicated()]\n",
    "print(f'Total duplicate rows: {len(duplicate_rows)}')\n",
    "duplicate_rows"
   ]
  }
 ],
 "metadata": {},
 "nbformat": 4,
 "nbformat_minor": 5
}
