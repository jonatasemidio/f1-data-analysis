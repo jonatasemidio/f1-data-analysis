{
 "cells": [
  {
   "cell_type": "markdown",
   "id": "fcd5c900",
   "metadata": {},
   "source": [
    "# 🧪 Train/Test Split, Cross-Validation, and Feature Store Usage\n",
    "This notebook demonstrates how to split data for training, apply cross-validation, and use a mock feature store for storing and retrieving features and models."
   ]
  },
  {
   "cell_type": "code",
   "execution_count": null,
   "id": "430d10a7",
   "metadata": {},
   "outputs": [],
   "source": [
    "import pandas as pd\n",
    "import numpy as np\n",
    "from sklearn.model_selection import train_test_split, KFold, cross_val_score\n",
    "from sklearn.linear_model import LogisticRegression\n",
    "from sklearn.metrics import accuracy_score\n",
    "import joblib  # for saving/loading models and features"
   ]
  },
  {
   "cell_type": "markdown",
   "id": "58260e3b",
   "metadata": {},
   "source": [
    "## 📄 Create Sample Dataset"
   ]
  },
  {
   "cell_type": "code",
   "execution_count": null,
   "id": "751ae76b",
   "metadata": {},
   "outputs": [],
   "source": [
    "# Create a synthetic dataset\n",
    "data = {\n",
    "    'age': [25, 30, 35, 40, 45, 50, 55, 60],\n",
    "    'income': [50000, 60000, 70000, 80000, 85000, 90000, 95000, 100000],\n",
    "    'purchased': [0, 0, 1, 0, 1, 1, 1, 1]\n",
    "}\n",
    "df = pd.DataFrame(data)\n",
    "X = df[['age', 'income']]\n",
    "y = df['purchased']\n",
    "df"
   ]
  },
  {
   "cell_type": "markdown",
   "id": "39c3ba68",
   "metadata": {},
   "source": [
    "## ✂️ Train/Test Split"
   ]
  },
  {
   "cell_type": "code",
   "execution_count": null,
   "id": "efb0f9fb",
   "metadata": {},
   "outputs": [],
   "source": [
    "X_train, X_test, y_train, y_test = train_test_split(X, y, test_size=0.25, random_state=42)\n",
    "print('Training data shape:', X_train.shape)\n",
    "print('Testing data shape:', X_test.shape)"
   ]
  },
  {
   "cell_type": "markdown",
   "id": "e673e73e",
   "metadata": {},
   "source": [
    "## 🔁 Cross-Validation"
   ]
  },
  {
   "cell_type": "code",
   "execution_count": null,
   "id": "65d536d1",
   "metadata": {},
   "outputs": [],
   "source": [
    "model = LogisticRegression()\n",
    "cv = KFold(n_splits=4, shuffle=True, random_state=1)\n",
    "scores = cross_val_score(model, X, y, scoring='accuracy', cv=cv)\n",
    "print('Cross-validation scores:', scores)\n",
    "print('Average accuracy:', scores.mean())"
   ]
  },
  {
   "cell_type": "markdown",
   "id": "1272f808",
   "metadata": {},
   "source": [
    "## 💾 Train and Save Model to Feature Store"
   ]
  },
  {
   "cell_type": "code",
   "execution_count": null,
   "id": "c994671a",
   "metadata": {},
   "outputs": [],
   "source": [
    "# Train the model\n",
    "model.fit(X_train, y_train)\n",
    "\n",
    "# Save model\n",
    "joblib.dump(model, 'model_store/logreg_model.pkl')\n",
    "\n",
    "# Save training features\n",
    "X_train.to_csv('feature_store/train_features.csv', index=False)\n",
    "print('Model and features saved.')"
   ]
  },
  {
   "cell_type": "markdown",
   "id": "0fae3e32",
   "metadata": {},
   "source": [
    "## 📥 Load Features and Model from Store"
   ]
  },
  {
   "cell_type": "code",
   "execution_count": null,
   "id": "0d7232d9",
   "metadata": {},
   "outputs": [],
   "source": [
    "# Load model and features\n",
    "loaded_model = joblib.load('model_store/logreg_model.pkl')\n",
    "loaded_features = pd.read_csv('feature_store/train_features.csv')\n",
    "print('Loaded model and features:')\n",
    "print(loaded_features.head())"
   ]
  },
  {
   "cell_type": "markdown",
   "id": "f637de58",
   "metadata": {},
   "source": [
    "## ✅ Predict with Loaded Model"
   ]
  },
  {
   "cell_type": "code",
   "execution_count": null,
   "id": "3dd8f2ff",
   "metadata": {},
   "outputs": [],
   "source": [
    "# Predict on test set\n",
    "y_pred = loaded_model.predict(X_test)\n",
    "print('Test Accuracy:', accuracy_score(y_test, y_pred))"
   ]
  },
  {
   "cell_type": "markdown",
   "id": "498643fa",
   "metadata": {},
   "source": [
    "## 🏪 Storing Features in a Feature Store with Feast"
   ]
  },
  {
   "cell_type": "code",
   "execution_count": null,
   "id": "e1306107",
   "metadata": {},
   "outputs": [],
   "source": [
    "# Install Feast if not already installed (uncomment if running interactively)\n",
    "# !pip install feast"
   ]
  },
  {
   "cell_type": "code",
   "execution_count": null,
   "id": "27b4272f",
   "metadata": {},
   "outputs": [],
   "source": [
    "# Import Feast libraries\n",
    "from feast import FeatureStore, Entity, FeatureView, Field\n",
    "from feast.types import Int64, Float64\n",
    "from datetime import datetime\n",
    "from pathlib import Path\n",
    "import os"
   ]
  },
  {
   "cell_type": "code",
   "execution_count": null,
   "id": "e3816b64",
   "metadata": {},
   "outputs": [],
   "source": [
    "# Create a local repo for Feast if it doesn't exist\n",
    "repo_path = Path('feast_repo')\n",
    "repo_path.mkdir(exist_ok=True)\n",
    "os.chdir(repo_path)\n",
    "repo_path_absolute = str(Path.cwd())"
   ]
  },
  {
   "cell_type": "code",
   "execution_count": null,
   "id": "a1527701",
   "metadata": {},
   "outputs": [],
   "source": [
    "# Create sample feature data\n",
    "entity_df = pd.DataFrame({\n",
    "    'user_id': range(len(X)),\n",
    "    'age': X['age'],\n",
    "    'income': X['income'],\n",
    "    'event_timestamp': [datetime.utcnow() for _ in range(len(X))]\n",
    "})\n",
    "entity_df.to_parquet('feature_data.parquet')"
   ]
  },
  {
   "cell_type": "code",
   "execution_count": null,
   "id": "08d65796",
   "metadata": {},
   "outputs": [],
   "source": [
    "# Write feature repo files (feature_store.yaml, feature_view.py, etc.)\n",
    "feature_repo_yaml = '''\n",
    "project: feast_demo\n",
    "registry: data/registry.db\n",
    "provider: local\n",
    "online_store:\n",
    "    path: data/online_store.db\n",
    "offline_store:\n",
    "    type: file\n",
    "'''\n",
    "Path('feature_store.yaml').write_text(feature_repo_yaml)"
   ]
  },
  {
   "cell_type": "code",
   "execution_count": null,
   "id": "288b175a",
   "metadata": {},
   "outputs": [],
   "source": [
    "# Define feature view in a Python module\n",
    "feature_view_code = '''\n",
    "from feast import Entity, FeatureView, Field\n",
    "from feast.types import Int64, Float64\n",
    "from datetime import timedelta\n",
    "from feast.file_source import FileSource\n",
    "\n",
    "user_df_source = FileSource(\n",
    "    path=\"feature_data.parquet\",\n",
    "    event_timestamp_column=\"event_timestamp\",\n",
    ")\n",
    "\n",
    "user = Entity(name=\"user_id\", join_keys=[\"user_id\"])\n",
    "\n",
    "user_features_view = FeatureView(\n",
    "    name=\"user_features\",\n",
    "    entities=[\"user_id\"],\n",
    "    ttl=timedelta(days=1),\n",
    "    schema=[\n",
    "        Field(name=\"age\", dtype=Float64),\n",
    "        Field(name=\"income\", dtype=Float64),\n",
    "    ],\n",
    "    source=user_df_source,\n",
    "    online=True\n",
    ")\n",
    "'''\n",
    "Path('user_features.py').write_text(feature_view_code)"
   ]
  },
  {
   "cell_type": "code",
   "execution_count": null,
   "id": "5ef8392e",
   "metadata": {},
   "outputs": [],
   "source": [
    "# Initialize and apply the feature repo\n",
    "!feast init .\n",
    "!feast apply"
   ]
  },
  {
   "cell_type": "code",
   "execution_count": null,
   "id": "f4e98489",
   "metadata": {},
   "outputs": [],
   "source": [
    "# Materialize features\n",
    "!feast materialize-incremental $(date +%F)"
   ]
  },
  {
   "cell_type": "code",
   "execution_count": null,
   "id": "8d70e12a",
   "metadata": {},
   "outputs": [],
   "source": [
    "# Retrieve features back from Feast\n",
    "store = FeatureStore(repo_path_absolute)\n",
    "retrieved = store.get_online_features(\n",
    "    features=[\"user_features:age\", \"user_features:income\"],\n",
    "    entity_rows=[{\"user_id\": i} for i in range(len(X))]\n",
    ").to_df()\n",
    "retrieved.head()"
   ]
  }
 ],
 "metadata": {},
 "nbformat": 4,
 "nbformat_minor": 5
}
